{
 "cells": [
  {
   "cell_type": "code",
   "execution_count": 1,
   "metadata": {},
   "outputs": [],
   "source": [
    "import pandas as pd\n",
    "import time\n",
    "import json\n",
    "import requests\n",
    "import json\n",
    "from datetime import datetime\n",
    "import warnings\n",
    "warnings.filterwarnings('ignore')\n",
    "\n",
    "#https://www.epochconverter.com/\n",
    "primeiro = 1692414000\n",
    "base = 86400\n",
    "num_dias = 180"
   ]
  },
  {
   "cell_type": "code",
   "execution_count": 2,
   "metadata": {},
   "outputs": [],
   "source": [
    "cidades = {'sao_luis':'7188',\n",
    "            'maraba':'7200',\n",
    "            'parauapebas':'7202'}"
   ]
  },
  {
   "cell_type": "code",
   "execution_count": 3,
   "metadata": {},
   "outputs": [],
   "source": [
    "dias_ano = []\n",
    "for i in range(num_dias):\n",
    "    dias_ano.append((base*i) + primeiro)"
   ]
  },
  {
   "cell_type": "code",
   "execution_count": 4,
   "metadata": {},
   "outputs": [],
   "source": [
    "calendario = pd.DataFrame(dias_ano, columns=['timestamp'])\n",
    "calendario['date'] = calendario['timestamp'].apply(lambda x: datetime.fromtimestamp(x))"
   ]
  },
  {
   "cell_type": "code",
   "execution_count": 5,
   "metadata": {},
   "outputs": [
    {
     "data": {
      "text/html": [
       "<div>\n",
       "<style scoped>\n",
       "    .dataframe tbody tr th:only-of-type {\n",
       "        vertical-align: middle;\n",
       "    }\n",
       "\n",
       "    .dataframe tbody tr th {\n",
       "        vertical-align: top;\n",
       "    }\n",
       "\n",
       "    .dataframe thead th {\n",
       "        text-align: right;\n",
       "    }\n",
       "</style>\n",
       "<table border=\"1\" class=\"dataframe\">\n",
       "  <thead>\n",
       "    <tr style=\"text-align: right;\">\n",
       "      <th></th>\n",
       "      <th>timestamp</th>\n",
       "      <th>date</th>\n",
       "    </tr>\n",
       "  </thead>\n",
       "  <tbody>\n",
       "    <tr>\n",
       "      <th>0</th>\n",
       "      <td>1692414000</td>\n",
       "      <td>2023-08-19 03:00:00</td>\n",
       "    </tr>\n",
       "    <tr>\n",
       "      <th>1</th>\n",
       "      <td>1692500400</td>\n",
       "      <td>2023-08-20 03:00:00</td>\n",
       "    </tr>\n",
       "    <tr>\n",
       "      <th>2</th>\n",
       "      <td>1692586800</td>\n",
       "      <td>2023-08-21 03:00:00</td>\n",
       "    </tr>\n",
       "    <tr>\n",
       "      <th>3</th>\n",
       "      <td>1692673200</td>\n",
       "      <td>2023-08-22 03:00:00</td>\n",
       "    </tr>\n",
       "    <tr>\n",
       "      <th>4</th>\n",
       "      <td>1692759600</td>\n",
       "      <td>2023-08-23 03:00:00</td>\n",
       "    </tr>\n",
       "  </tbody>\n",
       "</table>\n",
       "</div>"
      ],
      "text/plain": [
       "    timestamp                date\n",
       "0  1692414000 2023-08-19 03:00:00\n",
       "1  1692500400 2023-08-20 03:00:00\n",
       "2  1692586800 2023-08-21 03:00:00\n",
       "3  1692673200 2023-08-22 03:00:00\n",
       "4  1692759600 2023-08-23 03:00:00"
      ]
     },
     "execution_count": 5,
     "metadata": {},
     "output_type": "execute_result"
    }
   ],
   "source": [
    "calendario.head()"
   ]
  },
  {
   "cell_type": "code",
   "execution_count": 6,
   "metadata": {},
   "outputs": [],
   "source": [
    "calendario['status'] = ''\n",
    "calendario['descricaoOrigem'] = ''\n",
    "calendario['descricaoDestino'] = ''\n",
    "calendario['descricaoClasse'] = ''\n",
    "calendario['valorTotal'] = ''\n",
    "calendario['horaPartidaPrevista'] = ''\n",
    "calendario['horaChegadaPrevista'] = ''"
   ]
  },
  {
   "cell_type": "code",
   "execution_count": 7,
   "metadata": {},
   "outputs": [],
   "source": [
    "origem_maraba = cidades[\"maraba\"]\n",
    "destino_sao_luis = cidades[\"sao_luis\"]\n",
    "destino_parauapebas = cidades[\"parauapebas\"]\n",
    "\n",
    "quantidade = 1"
   ]
  },
  {
   "cell_type": "code",
   "execution_count": 8,
   "metadata": {},
   "outputs": [],
   "source": [
    "def consulta_passagens(calendario, origem, destino):\n",
    "    s = requests.session()\n",
    "    url = \"https://tremdepassageiros.vale.com/sgpweb/rest/externo/VendaInternet/publico/pesquisaPassagem\"\n",
    "\n",
    "    for index, row in calendario.iterrows():\n",
    "        time.sleep(5)\n",
    "        payload = {\"codigoFerrovia\":\"04\",\n",
    "                   \"codigoLocalOrigem\":origem,\n",
    "                   \"codigoLocalDestino\":destino,\n",
    "                   \"dataIda\": str(int(row['timestamp'])) + '000',\n",
    "                   \"detalheVenda\":[{\"detalhe\":20,\n",
    "                                    \"qtd\":1,\n",
    "                                    \"funcionario\":False}]}\n",
    "\n",
    "        r = s.request('POST', url=url,  json=payload)\n",
    "\n",
    "        try:\n",
    "            answer = r.json()\n",
    "\n",
    "            calendario['descricaoOrigem'][index] = str(answer['descricaoOrigem'])\n",
    "            calendario['descricaoDestino'][index] = str(answer['descricaoDestino'])\n",
    "            calendario['descricaoClasse'][index] = str(answer['passagensIda'][0]['descricaoClasse'])\n",
    "            calendario['valorTotal'][index] = str(answer['passagensIda'][0]['valorTotal'])\n",
    "            calendario['horaPartidaPrevista'][index] = str(answer['passagensIda'][0]['horaPartidaPrevista'])\n",
    "            calendario['horaChegadaPrevista'][index] = str(answer['passagensIda'][0]['horaChegadaPrevista'])\n",
    "            calendario['status'][index] = 'Possui Passagem'\n",
    "        except:\n",
    "            calendario['status'][index] = 'Não Possui Passagem'\n",
    "            calendario['descricaoOrigem'][index] = ''\n",
    "            calendario['descricaoDestino'][index] = ''\n",
    "            calendario['descricaoClasse'][index] = ''\n",
    "            calendario['valorTotal'][index] = ''\n",
    "            calendario['horaPartidaPrevista'][index] = ''\n",
    "            calendario['horaChegadaPrevista'][index] = ''\n",
    "            #print(f\"Erro ao consultar passagem dia {row['date'].strftime('%d-%m-%Y')}\")\n",
    "    return calendario"
   ]
  },
  {
   "cell_type": "code",
   "execution_count": 9,
   "metadata": {},
   "outputs": [],
   "source": [
    "maraba_parauapebas = consulta_passagens(calendario, origem_maraba, destino_parauapebas)\n",
    "maraba_são_luis = consulta_passagens(calendario, origem_maraba, destino_sao_luis)\n",
    "parauapebas_são_luis = consulta_passagens(calendario, destino_parauapebas, destino_sao_luis)\n",
    "parauapebas_maraba = consulta_passagens(calendario, destino_parauapebas, origem_maraba)\n",
    "são_luis_parauapebas = consulta_passagens(calendario, destino_sao_luis, destino_parauapebas)\n",
    "são_luis_maraba = consulta_passagens(calendario, destino_sao_luis, origem_maraba)"
   ]
  },
  {
   "cell_type": "code",
   "execution_count": 12,
   "metadata": {},
   "outputs": [],
   "source": [
    "with pd.ExcelWriter('Relatório de Passagem - Trem de passageiros.xlsx') as writer:\n",
    "    maraba_são_luis.to_excel(writer, sheet_name=\"Marabá - São Luís\", index=False)\n",
    "    maraba_parauapebas.to_excel(writer, sheet_name=\"Marabá - Parauapebas\", index=False)\n",
    "    parauapebas_maraba.to_excel(writer, sheet_name=\"Parauapebas - Marabá\", index=False)\n",
    "    parauapebas_são_luis.to_excel(writer, sheet_name=\"Parauapebas - São Luís\", index=False)\n",
    "    são_luis_maraba.to_excel(writer, sheet_name=\"São Luís - Marabá\", index=False)\n",
    "    são_luis_parauapebas.to_excel(writer, sheet_name=\"São Luís - Parauapebas\", index=False)"
   ]
  },
  {
   "cell_type": "code",
   "execution_count": null,
   "metadata": {},
   "outputs": [],
   "source": []
  }
 ],
 "metadata": {
  "kernelspec": {
   "display_name": "Python 3 (ipykernel)",
   "language": "python",
   "name": "python3"
  },
  "language_info": {
   "codemirror_mode": {
    "name": "ipython",
    "version": 3
   },
   "file_extension": ".py",
   "mimetype": "text/x-python",
   "name": "python",
   "nbconvert_exporter": "python",
   "pygments_lexer": "ipython3",
   "version": "3.9.7"
  }
 },
 "nbformat": 4,
 "nbformat_minor": 2
}
